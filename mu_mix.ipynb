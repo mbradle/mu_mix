{
 "cells": [
  {
   "cell_type": "markdown",
   "metadata": {},
   "source": [
    "# Mixtures\n",
    "The goal of this notebook is to examine mixtures of outputs from nucleosynthetic processes."
   ]
  },
  {
   "cell_type": "markdown",
   "metadata": {},
   "source": [
    "Begin by installing and importing the necessary python libraries"
   ]
  },
  {
   "cell_type": "code",
   "execution_count": 1,
   "metadata": {},
   "outputs": [],
   "source": [
    "import sys, io, requests\n",
    "from ipywidgets import interact, interactive\n",
    "import ipywidgets as widgets\n",
    "\n",
    "!{sys.executable} -m pip install --quiet wnutils\n",
    "!{sys.executable} -m pip install --quiet matplotlib\n",
    "\n",
    "import matplotlib.pyplot as plt\n",
    "import wnutils.xml as wx \n",
    "import numpy as np\n",
    "from scipy.optimize import curve_fit"
   ]
  },
  {
   "cell_type": "markdown",
   "metadata": {},
   "source": [
    "# Preliminaries."
   ]
  },
  {
   "cell_type": "markdown",
   "metadata": {},
   "source": [
    "Define a routine to retrieve zone abundances from the xml data."
   ]
  },
  {
   "cell_type": "code",
   "execution_count": 2,
   "metadata": {},
   "outputs": [],
   "source": [
    "def get_zone_abunds(my_xml):\n",
    "    zones = my_xml.get_zone_data()\n",
    "    proc = {}\n",
    "    for key in zones:\n",
    "        proc[key] = {}\n",
    "        for tup in zones[key]['mass fractions']:\n",
    "            proc[key][tup[0]] = zones[key]['mass fractions'][tup] / tup[2]\n",
    "    return proc"
   ]
  },
  {
   "cell_type": "markdown",
   "metadata": {},
   "source": [
    "Define a routine to retrieve the data for the processes and store in arrays."
   ]
  },
  {
   "cell_type": "code",
   "execution_count": 3,
   "metadata": {},
   "outputs": [],
   "source": [
    "def get_proc(sp, norm_species):\n",
    "\n",
    "    y = []\n",
    "\n",
    "    proc = {}\n",
    "    for key in result:\n",
    "        proc[key] = np.zeros(len(sp))\n",
    "        count = 0\n",
    "        for s in sp:\n",
    "            if s in result[key]:\n",
    "                proc[key][count] = result[key][s]\n",
    "            count += 1\n",
    "            \n",
    "    for key in result:\n",
    "        proc[key] /= (np.sum(proc[key]) + 1.e-300) # Add a small amount to denominator in case contribution is zero.\n",
    "    \n",
    "    return proc"
   ]
  },
  {
   "cell_type": "markdown",
   "metadata": {},
   "source": [
    "# Study nucleosynthesis mixtures."
   ]
  },
  {
   "cell_type": "markdown",
   "metadata": {},
   "source": [
    "Begin by reading in network data from [OSF](https://osf.io/kjnct/).  Retrieve the nuclides."
   ]
  },
  {
   "cell_type": "code",
   "execution_count": 4,
   "metadata": {},
   "outputs": [],
   "source": [
    "xml = wx.Xml(io.BytesIO(requests.get('https://osf.io/kyhbs/download').content))\n",
    "nucs = xml.get_nuclide_data()"
   ]
  },
  {
   "cell_type": "markdown",
   "metadata": {},
   "source": [
    "Next, read in the nucleosynthesis processes data and store in a wnutils XML object.  The default is to use files downloaded from [OSF](https://osf.io/mrgbp/).  To use your own data, put them in your working directory or uploading to Colab or Binder.  Then uncomment the second line and replace *example.xml* with the chosen name."
   ]
  },
  {
   "cell_type": "code",
   "execution_count": 5,
   "metadata": {},
   "outputs": [],
   "source": [
    "rsp = wx.Xml(io.BytesIO(requests.get('https://osf.io/5ztd7/download').content))\n",
    "#wx.Xml('example.xml')"
   ]
  },
  {
   "cell_type": "markdown",
   "metadata": {},
   "source": [
    "Retrieve the data for the processes."
   ]
  },
  {
   "cell_type": "code",
   "execution_count": 6,
   "metadata": {},
   "outputs": [],
   "source": [
    "result = get_zone_abunds(rsp)"
   ]
  },
  {
   "cell_type": "markdown",
   "metadata": {},
   "source": [
    "Specify the species of interest and the normalizing species."
   ]
  },
  {
   "cell_type": "code",
   "execution_count": 7,
   "metadata": {},
   "outputs": [],
   "source": [
    "sp = np.array(['mo92', 'mo94', 'mo95', 'mo96', 'mo97', 'mo98', 'mo100'])\n",
    "norm_species = 'mo96'\n",
    "\n",
    "element_string = \"\"\n",
    "for char in norm_species:\n",
    "    if char.isalpha():\n",
    "        element_string += char\n",
    "        \n",
    "element_string = element_string.capitalize()\n",
    "\n",
    "a = np.empty([0])\n",
    "for species in sp:\n",
    "    a = np.append(a, nucs[species]['a'])\n",
    "    \n",
    "sp_string = '^{i}\\\\rm{' + element_string + '} / ' + xml.get_latex_names(sp)[norm_species].strip('$')"
   ]
  },
  {
   "cell_type": "markdown",
   "metadata": {},
   "source": [
    "Get the process data for the species.  Set the normalization index and mass-fractionation correction species index.  The commented command shows a \"hack\" to include a small contribution of the p-process to the weak s-process component of mo94."
   ]
  },
  {
   "cell_type": "code",
   "execution_count": 8,
   "metadata": {},
   "outputs": [],
   "source": [
    "proc = get_proc(sp, norm_species)\n",
    "i_norm = np.where(sp == norm_species)\n",
    "\n",
    "#proc['ws'][1] = 0.05 * proc['p'][1]"
   ]
  },
  {
   "cell_type": "markdown",
   "metadata": {},
   "source": [
    "Plot the process contributions."
   ]
  },
  {
   "cell_type": "code",
   "execution_count": 9,
   "metadata": {},
   "outputs": [
    {
     "data": {
      "text/plain": [
       "<matplotlib.legend.Legend at 0x11852bd10>"
      ]
     },
     "execution_count": 9,
     "metadata": {},
     "output_type": "execute_result"
    },
    {
     "data": {
      "image/png": "[encoded data removed]",
      "text/plain": [
       "<Figure size 640x480 with 1 Axes>"
      ]
     },
     "metadata": {},
     "output_type": "display_data"
    }
   ],
   "source": [
    "for key in proc:\n",
    "    plt.plot(a, proc[key], 'o-', label = key)\n",
    "    \n",
    "plt.legend()"
   ]
  },
  {
   "cell_type": "markdown",
   "metadata": {},
   "source": [
    "Input the standard abundance ratios.  Here we use [Anders and Grevesse (1989)](https://osf.io/udvsk/)."
   ]
  },
  {
   "cell_type": "code",
   "execution_count": 10,
   "metadata": {},
   "outputs": [],
   "source": [
    "solar = wx.Xml(io.BytesIO(requests.get('https://osf.io/w8ktc/download').content))\n",
    "\n",
    "y = {}\n",
    "mass_fractions = solar.get_zone_data()['0']['mass fractions']\n",
    "for tup in mass_fractions:\n",
    "    y[tup[0]] = mass_fractions[tup] / tup[2]\n",
    "    \n",
    "standard = []\n",
    "\n",
    "for s in sp:\n",
    "    standard = np.append(standard, y[s] / y[norm_species])"
   ]
  },
  {
   "cell_type": "markdown",
   "metadata": {},
   "source": [
    "Define a fit function for the processes to the standard abundances."
   ]
  },
  {
   "cell_type": "code",
   "execution_count": 11,
   "metadata": {},
   "outputs": [],
   "source": [
    "def fit_function(x, a_p, a_r, a_ms, a_ws):\n",
    "    result = a_p * proc['p'] + a_r * proc['r'] + a_ms * proc['ms'] + a_ws * proc['ws']\n",
    "    result /= result[i_norm]\n",
    "    return result"
   ]
  },
  {
   "cell_type": "markdown",
   "metadata": {},
   "source": [
    "Compute the best fit to the standard.  Normalize the fit parameters."
   ]
  },
  {
   "cell_type": "code",
   "execution_count": 12,
   "metadata": {},
   "outputs": [],
   "source": [
    "popt_std, pcov_std = curve_fit(fit_function, a, standard, bounds=(0, [1, 1, 1, 1]))\n",
    "popt_std /= np.sum(popt_std)"
   ]
  },
  {
   "cell_type": "markdown",
   "metadata": {},
   "source": [
    "Plot the fit."
   ]
  },
  {
   "cell_type": "code",
   "execution_count": 13,
   "metadata": {},
   "outputs": [
    {
     "data": {
      "text/plain": [
       "<matplotlib.legend.Legend at 0x118d55010>"
      ]
     },
     "execution_count": 13,
     "metadata": {},
     "output_type": "execute_result"
    },
    {
     "data": {
      "image/png": "[encoded data removed]",
      "text/plain": [
       "<Figure size 640x480 with 1 Axes>"
      ]
     },
     "metadata": {},
     "output_type": "display_data"
    }
   ],
   "source": [
    "plt.plot(a, standard, '-o', label='Standard')\n",
    "\n",
    "plt.plot(a, fit_function(a, *popt_std), '-o', label='Fit')\n",
    "\n",
    "plt.xlabel('A, Mass Number')\n",
    "plt.ylabel('$' + sp_string + '$')\n",
    "plt.legend()"
   ]
  },
  {
   "cell_type": "markdown",
   "metadata": {},
   "source": [
    "With the fit of nucleosynthetic components available, compute and print out the process contributions for each species.  The number in parentheses gives the abundance of the species relative to the normalizing speices in the fit."
   ]
  },
  {
   "cell_type": "code",
   "execution_count": 14,
   "metadata": {},
   "outputs": [
    {
     "name": "stdout",
     "output_type": "stream",
     "text": [
      "mo92 (14.82% of Mo)\n",
      "    p: 100.00%\n",
      "    r: 0.00%\n",
      "    ms: 0.00%\n",
      "    ws: 0.00%\n",
      "\n",
      "mo94 (9.25% of Mo)\n",
      "    p: 100.00%\n",
      "    r: 0.00%\n",
      "    ms: 0.00%\n",
      "    ws: 0.00%\n",
      "\n",
      "mo95 (15.79% of Mo)\n",
      "    p: 0.00%\n",
      "    r: 54.27%\n",
      "    ms: 26.90%\n",
      "    ws: 18.83%\n",
      "\n",
      "mo96 (16.66% of Mo)\n",
      "    p: 0.00%\n",
      "    r: 0.00%\n",
      "    ms: 65.19%\n",
      "    ws: 34.81%\n",
      "\n",
      "mo97 (9.59% of Mo)\n",
      "    p: 0.00%\n",
      "    r: 36.51%\n",
      "    ms: 36.81%\n",
      "    ws: 26.68%\n",
      "\n",
      "mo98 (24.14% of Mo)\n",
      "    p: 0.00%\n",
      "    r: 15.50%\n",
      "    ms: 48.24%\n",
      "    ws: 36.26%\n",
      "\n",
      "mo100 (9.74% of Mo)\n",
      "    p: 0.00%\n",
      "    r: 100.00%\n",
      "    ms: 0.00%\n",
      "    ws: 0.00%\n",
      "\n"
     ]
    }
   ],
   "source": [
    "c_hash = {'p': 0, 'r': 1, 'ms': 2, 'ws': 3}\n",
    "\n",
    "y_fit = {}\n",
    "y_sum = np.zeros(len(a))\n",
    "for key in c_hash:\n",
    "    y_fit[key] = popt_std[c_hash[key]] * proc[key]\n",
    "    y_sum += y_fit[key]\n",
    "    \n",
    "contribs = {}\n",
    "    \n",
    "for key in y_fit:\n",
    "    contribs[key] = 100. * y_fit[key] / y_sum \n",
    "    \n",
    "for i in range(len(sp)):\n",
    "    print('{:s} ({:.2f}% of {:s})'.format(sp[i], 100 * y_sum[i] / np.sum(y_sum), element_string))\n",
    "    for key in contribs:\n",
    "        print('    {:s}: {:.2f}%'.format(key, contribs[key][i]))\n",
    "    print(\"\")"
   ]
  },
  {
   "cell_type": "markdown",
   "metadata": {},
   "source": [
    "Now graphically represent the process contributions to each species."
   ]
  },
  {
   "cell_type": "code",
   "execution_count": 15,
   "metadata": {},
   "outputs": [
    {
     "data": {
      "image/png": "[encoded data removed]",
      "text/plain": [
       "<Figure size 640x480 with 1 Axes>"
      ]
     },
     "metadata": {},
     "output_type": "display_data"
    }
   ],
   "source": [
    "width = 0.6\n",
    "\n",
    "fig, ax = plt.subplots()\n",
    "bottom = np.zeros(len(a))\n",
    "\n",
    "for key, contrib in contribs.items():\n",
    "    p = ax.bar(a, contrib, width, label=key, bottom=bottom)\n",
    "    bottom += contrib\n",
    "\n",
    "    #ax.bar_label(p, label_type='center', fmt=\"%.0f\")\n",
    "    \n",
    "ax.set_xlabel('A, Mass Number')\n",
    "    \n",
    "ax.set_title('Nucleosynthetic component contributions to {:s} isotopes'.format(element_string))\n",
    "ax.legend(bbox_to_anchor = (1,1), loc='upper left', ncol = 1)\n",
    "\n",
    "plt.show()"
   ]
  },
  {
   "cell_type": "markdown",
   "metadata": {},
   "source": [
    "With appropriate nucleosynthetic contributions now available, you can practice adding and subtracting different mixes of those components (in parts per million). Set rng to define the range of variation of the components and step to define the increment size. Use the slider bars to adjust the contribution of each component away from the fit to the standard. You can click on a slider and move it, or, once you have clicked on the button, use the left and right arrows on your key board to increase or decrease the contribution. Note that p_proc is the p-process component, r_proc is the r-process component, ms_proc is the main s-process component, and ws_proc is the weak s-process component."
   ]
  },
  {
   "cell_type": "code",
   "execution_count": 16,
   "metadata": {},
   "outputs": [
    {
     "data": {
      "application/vnd.jupyter.widget-view+json": {
       "model_id": "69fd15b94b13471f8d82e0f5efe60093",
       "version_major": 2,
       "version_minor": 0
      },
      "text/plain": [
       "interactive(children=(IntSlider(value=0, description='p_proc', max=1000, min=-1000), IntSlider(value=0, descri…"
      ]
     },
     "metadata": {},
     "output_type": "display_data"
    },
    {
     "data": {
      "text/plain": [
       "<function __main__.f(p_proc, r_proc, ms_proc, ws_proc)>"
      ]
     },
     "execution_count": 16,
     "metadata": {},
     "output_type": "execute_result"
    }
   ],
   "source": [
    "rng = 1000\n",
    "step = 1\n",
    "\n",
    "def f(p_proc, r_proc, ms_proc, ws_proc):\n",
    "    c_p = (1 + p_proc/1.e6) * popt_std[0]\n",
    "    c_r = (1 + r_proc/1.e6) * popt_std[1]\n",
    "    c_ms = (1 + ms_proc/1.e6) * popt_std[2]\n",
    "    c_ws = (1 + ws_proc/1.e6) * popt_std[3]\n",
    "\n",
    "    reference = fit_function(a, *popt_std)\n",
    "    reference /= reference[i_norm]\n",
    "    result = c_p * proc['p'] + c_r * proc['r'] + c_ms * proc['ms'] + c_ws * proc['ws']\n",
    "    result /= result[i_norm]\n",
    "    mu = 1.e6 * (result / reference - 1)\n",
    "        \n",
    "    plt.plot(a, mu, '-o', label='fit')\n",
    "\n",
    "    plt.xlabel('A, Mass Number')\n",
    "    plt.ylabel('$\\\\mu(' + sp_string + ')$')\n",
    "        \n",
    "    plt.show()\n",
    "        \n",
    "interact(f, p_proc=(-rng,rng,step), r_proc=(-rng,rng,step), ms_proc=(-rng,rng,step), ws_proc=(-rng,rng,step))"
   ]
  },
  {
   "cell_type": "markdown",
   "metadata": {},
   "source": [
    "# Compare to data."
   ]
  },
  {
   "cell_type": "markdown",
   "metadata": {},
   "source": [
    "This section allows the user to compare nucleosynthetic mixtures to data.  The default is not to run the comparison, as the following cell sets empty arrays for the data and error values."
   ]
  },
  {
   "cell_type": "code",
   "execution_count": 17,
   "metadata": {},
   "outputs": [],
   "source": [
    "data = []\n",
    "error = []"
   ]
  },
  {
   "cell_type": "markdown",
   "metadata": {},
   "source": [
    "Add data, if desired.  The *data* array shows the deviations from the standard for each species (in parts per million) while *error* is the array giving the uncertainty for each data point.  The *data* and *error* arrays need to match up with the *a* and *sp* arrays defined above.\n",
    "\n",
    "To compare to data, uncomment the three lines of the cell, replace the *correction_species* and data and error arrays with your own values, and run the following cells.  Make sure that no error value is zero as this will cause a problem with the fits."
   ]
  },
  {
   "cell_type": "code",
   "execution_count": 18,
   "metadata": {},
   "outputs": [],
   "source": [
    "#correction_species = 'mo98'\n",
    "#data = np.array([-54.1, -26.1, -3.4, 0., 11.3, 0., -40.9])\n",
    "#error = np.array([34.0, 10.1, 3.9, 0.1, 2.5, 0.1, 9.5])"
   ]
  },
  {
   "cell_type": "markdown",
   "metadata": {},
   "source": [
    "Check for zero error values."
   ]
  },
  {
   "cell_type": "code",
   "execution_count": 19,
   "metadata": {},
   "outputs": [],
   "source": [
    "if len(data) > 0:\n",
    "    assert np.all(error), \"An error value is zero.\""
   ]
  },
  {
   "cell_type": "markdown",
   "metadata": {},
   "source": [
    "Define a fit function for the anomaly data."
   ]
  },
  {
   "cell_type": "code",
   "execution_count": 20,
   "metadata": {},
   "outputs": [],
   "source": [
    "if len(data) > 0:\n",
    "    def fit_function2(x, a_p, a_r, a_ms, a_ws):\n",
    "        result = a_p * proc['p'] + a_r * proc['r'] + a_ms * proc['ms'] + a_ws * proc['ws']\n",
    "        result /= result[i_norm]    \n",
    "        reference = fit_function(x, *popt_std)\n",
    "        mu = 1.e6 * ((result / reference) - 1)\n",
    "        return mu"
   ]
  },
  {
   "cell_type": "markdown",
   "metadata": {},
   "source": [
    "Fit the data.  Normalize the fit parameters."
   ]
  },
  {
   "cell_type": "code",
   "execution_count": 21,
   "metadata": {},
   "outputs": [],
   "source": [
    "if len(data) > 0:\n",
    "    popt_mu, pcov_mu = curve_fit(fit_function2, a, data, bounds=(0, [1, 1, 1, 1]), sigma=error)\n",
    "    popt_mu /= np.sum(popt_mu)"
   ]
  },
  {
   "cell_type": "markdown",
   "metadata": {},
   "source": [
    "Print the fit parameters."
   ]
  },
  {
   "cell_type": "code",
   "execution_count": 22,
   "metadata": {},
   "outputs": [],
   "source": [
    "if len(data) > 0:\n",
    "    a_fit = 1.e6 * (popt_mu/np.sum(popt_mu)/(popt_std/np.sum(popt_std)) - 1)\n",
    "\n",
    "    print('p_proc: {:.2f}'.format(a_fit[0]))\n",
    "    print('r_proc: {:.2f}'.format(a_fit[1]))\n",
    "    print('ms_proc: {:.2f}'.format(a_fit[2]))\n",
    "    print('ws_proc: {:.2f}'.format(a_fit[3]))"
   ]
  },
  {
   "cell_type": "markdown",
   "metadata": {},
   "source": [
    "Add and subtract nucleosynthetic components (in parts per million) to fit the data. Use the slider bars to adjust the contribution of each component. You can click on a slider and move it, or, once you have clicked on the button, use the left and right arrows on your key board to increase or decrease the contributiom. Note that p_proc is the p-process component, r_proc is the r-process component, ms_proc is the main s-process component, and ws_proc is the weak s-process component.\n",
    "\n",
    "The plot starts with the best fit parameters from the cell above."
   ]
  },
  {
   "cell_type": "code",
   "execution_count": 23,
   "metadata": {},
   "outputs": [],
   "source": [
    "if len(data) > 0:\n",
    "    def f(p_proc, r_proc, ms_proc, ws_proc):\n",
    "        c_p = (1 + p_proc/1.e6) * popt_std[0]\n",
    "        c_r = (1 + r_proc/1.e6) * popt_std[1]\n",
    "        c_ms = (1 + ms_proc/1.e6) * popt_std[2]\n",
    "        c_ws = (1 + ws_proc/1.e6) * popt_std[3]\n",
    "\n",
    "        reference = fit_function(a, *popt_std)\n",
    "        reference /= reference[i_norm]\n",
    "        result = c_p * proc['p'] + c_r * proc['r'] + c_ms * proc['ms'] + c_ws * proc['ws']\n",
    "        result /= result[i_norm]\n",
    "        mu = 1.e6 * (result / reference - 1)\n",
    "    \n",
    "        plt.plot(a, mu, '-o', label='fit')\n",
    "        plt.errorbar(a, data, fmt='-o', yerr=error, label='data')\n",
    "\n",
    "        plt.xlabel('A, Mass Number')\n",
    "        plt.ylabel('$\\\\mu(' + sp_string + ')$')\n",
    "        plt.legend()\n",
    "        \n",
    "        plt.show()\n",
    "        \n",
    "    interact(f, p_proc=a_fit[0], r_proc=a_fit[1], ms_proc=a_fit[2], ws_proc=a_fit[3])"
   ]
  },
  {
   "cell_type": "code",
   "execution_count": null,
   "metadata": {},
   "outputs": [],
   "source": []
  }
 ],
 "metadata": {
  "interpreter": {
   "hash": "fd578b525fe7fcca8a3ea11350d18bcbeb29af20bd1df15f6c5fd2c9cf111483"
  },
  "kernelspec": {
   "display_name": "Python 3 (ipykernel)",
   "language": "python",
   "name": "python3"
  },
  "language_info": {
   "codemirror_mode": {
    "name": "ipython",
    "version": 3
   },
   "file_extension": ".py",
   "mimetype": "text/x-python",
   "name": "python",
   "nbconvert_exporter": "python",
   "pygments_lexer": "ipython3",
   "version": "3.11.4"
  }
 },
 "nbformat": 4,
 "nbformat_minor": 2
}
